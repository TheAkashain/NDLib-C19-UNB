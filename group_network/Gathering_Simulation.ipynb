{
 "cells": [
  {
   "cell_type": "markdown",
   "metadata": {},
   "source": [
    "# Build and Simulate Group Model"
   ]
  },
  {
   "cell_type": "code",
   "execution_count": 1,
   "metadata": {},
   "outputs": [],
   "source": [
    "from myGroupNetwork import NetworkModel"
   ]
  },
  {
   "cell_type": "code",
   "execution_count": 2,
   "metadata": {},
   "outputs": [
    {
     "name": "stdout",
     "output_type": "stream",
     "text": [
      "Number of nodes: 20000\n"
     ]
    }
   ],
   "source": [
    "model = NetworkModel(filename='output/network_data.json')\n",
    "print('Number of nodes: {}'.format(len(model.graph)))"
   ]
  },
  {
   "cell_type": "code",
   "execution_count": 6,
   "metadata": {
    "scrolled": true
   },
   "outputs": [
    {
     "name": "stdout",
     "output_type": "stream",
     "text": [
      "Simuating for size=10 and num_events=50... Done\n",
      "Simuating for size=10 and num_events=70... Done\n",
      "Simuating for size=10 and num_events=90... Done\n",
      "Simuating for size=20 and num_events=50... Done\n",
      "Simuating for size=20 and num_events=70... Done\n",
      "Simuating for size=20 and num_events=90... Done\n",
      "Simuating for size=30 and num_events=50... Done\n",
      "Simuating for size=30 and num_events=70... Done\n",
      "Simuating for size=30 and num_events=90... Done\n"
     ]
    }
   ],
   "source": [
    "filename = 'gathering_simulation.csv'\n",
    "days = 100\n",
    "sizes = [50,70,90]\n",
    "num_events = [10,20,30]\n",
    "model.gathering_simulation(days, num_events, sizes, filename)"
   ]
  },
  {
   "cell_type": "code",
   "execution_count": 3,
   "metadata": {},
   "outputs": [
    {
     "data": {
      "image/png": "[encoded data removed]",
      "text/plain": [
       "<Figure size 720x432 with 2 Axes>"
      ]
     },
     "metadata": {
      "needs_background": "light"
     },
     "output_type": "display_data"
    }
   ],
   "source": [
    "filename = 'gathering_simulation.csv'\n",
    "sizes = [50,70,90]\n",
    "num_events = [10,20,30]\n",
    "model.gathering_plot(num_events, sizes, filename)"
   ]
  },
  {
   "cell_type": "code",
   "execution_count": null,
   "metadata": {},
   "outputs": [],
   "source": []
  }
 ],
 "metadata": {
  "kernelspec": {
   "display_name": "Python 3",
   "language": "python",
   "name": "python3"
  },
  "language_info": {
   "codemirror_mode": {
    "name": "ipython",
    "version": 3
   },
   "file_extension": ".py",
   "mimetype": "text/x-python",
   "name": "python",
   "nbconvert_exporter": "python",
   "pygments_lexer": "ipython3",
   "version": "3.8.8"
  }
 },
 "nbformat": 4,
 "nbformat_minor": 4
}
