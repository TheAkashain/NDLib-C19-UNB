{
 "cells": [
  {
   "cell_type": "markdown",
   "metadata": {},
   "source": [
    "# Build Network with Group Labels"
   ]
  },
  {
   "cell_type": "markdown",
   "metadata": {},
   "source": [
    "### Construct Nodes with Age Labels"
   ]
  },
  {
   "cell_type": "code",
   "execution_count": 4,
   "metadata": {},
   "outputs": [],
   "source": [
    "from myGroupNetwork import myGroupNetwork\n",
    "\n",
    "N = 2000 # Total Population\n",
    "\n",
    "youngPercent = 0.15 # Percentage of each age group\n",
    "adultPercent = 0.65\n",
    "oldPercent = 1 - youngPercent - adultPercent # = 0.20\n",
    "\n",
    "nYoung = int(youngPercent * N)\n",
    "nMiddle = int(adultPercent * N)\n",
    "nSenior = N - nYoung - nMiddle\n",
    "data = myGroupNetwork(size={'Young': nYoung, 'Middle': nMiddle, 'Senior': nSenior})"
   ]
  },
  {
   "cell_type": "markdown",
   "metadata": {},
   "source": [
    "### Add Groups"
   ]
  },
  {
   "cell_type": "code",
   "execution_count": 6,
   "metadata": {},
   "outputs": [],
   "source": [
    "data.addGroup(groupType='CareHome', numUnits=60, size={'Middle':20, 'Senior': 30}, contactPercentage=.7)"
   ]
  },
  {
   "cell_type": "code",
   "execution_count": 7,
   "metadata": {},
   "outputs": [],
   "source": [
    "data.addGroup(groupType='School', numUnits=70, size={'Young':50, 'Middle': 20}, contactPercentage=.7)"
   ]
  },
  {
   "cell_type": "code",
   "execution_count": 8,
   "metadata": {},
   "outputs": [],
   "source": [
    "data.addGroup(groupType='Work', numUnits=N//20, size={'Middle': 12}, exclude=['CareHome','School'], contactPercentage=.4)"
   ]
  },
  {
   "cell_type": "code",
   "execution_count": 9,
   "metadata": {},
   "outputs": [],
   "source": [
    "data.addGroup(groupType='Home', numUnits=N//5, size= 3 , exclude=['CareHome'], contactPercentage=1)"
   ]
  },
  {
   "cell_type": "markdown",
   "metadata": {},
   "source": [
    "### Export Data"
   ]
  },
  {
   "cell_type": "code",
   "execution_count": 10,
   "metadata": {},
   "outputs": [],
   "source": [
    "data.save( filename='output/network_data.json' )"
   ]
  },
  {
   "cell_type": "markdown",
   "metadata": {},
   "source": [
    "### Inspect the result"
   ]
  },
  {
   "cell_type": "code",
   "execution_count": 11,
   "metadata": {},
   "outputs": [
    {
     "output_type": "stream",
     "name": "stdout",
     "text": [
      "0 {'AgeLevel': 'Young', 'Home': 278}\n50 {'AgeLevel': 'Young', 'Home': 123}\n100 {'AgeLevel': 'Young', 'Home': 264}\n150 {'AgeLevel': 'Young', 'Home': 387}\n200 {'AgeLevel': 'Young', 'Home': 297}\n250 {'AgeLevel': 'Young', 'Home': 6}\n300 {'AgeLevel': 'Middle', 'School': 58, 'Home': 248}\n350 {'AgeLevel': 'Middle', 'School': 54, 'Home': 197}\n400 {'AgeLevel': 'Middle', 'School': 24}\n450 {'AgeLevel': 'Middle', 'Work': 69}\n500 {'AgeLevel': 'Middle', 'Work': 33, 'Home': 85}\n550 {'AgeLevel': 'Middle', 'Work': 89, 'Home': 111}\n600 {'AgeLevel': 'Middle', 'School': 16}\n650 {'AgeLevel': 'Middle', 'School': 26}\n700 {'AgeLevel': 'Middle', 'Work': 59}\n750 {'AgeLevel': 'Middle', 'Work': 80}\n800 {'AgeLevel': 'Middle', 'Work': 20}\n850 {'AgeLevel': 'Middle', 'School': 64}\n900 {'AgeLevel': 'Middle', 'School': 33}\n950 {'AgeLevel': 'Middle', 'School': 4, 'Home': 259}\n1000 {'AgeLevel': 'Middle', 'School': 16, 'Home': 265}\n1050 {'AgeLevel': 'Middle', 'Work': 36, 'Home': 263}\n1100 {'AgeLevel': 'Middle', 'School': 45, 'Home': 313}\n1150 {'AgeLevel': 'Middle', 'School': 43, 'Home': 155}\n1200 {'AgeLevel': 'Middle', 'Home': 35}\n1250 {'AgeLevel': 'Middle', 'School': 8}\n1300 {'AgeLevel': 'Middle', 'Work': 97, 'Home': 261}\n1350 {'AgeLevel': 'Middle', 'Work': 57}\n1400 {'AgeLevel': 'Middle', 'School': 4, 'Home': 360}\n1450 {'AgeLevel': 'Middle', 'School': 69}\n1500 {'AgeLevel': 'Middle', 'Work': 27, 'Home': 336}\n1550 {'AgeLevel': 'Middle', 'Work': 99, 'Home': 224}\n1600 {'AgeLevel': 'Senior', 'CareHome': 48}\n1650 {'AgeLevel': 'Senior', 'CareHome': 44}\n1700 {'AgeLevel': 'Senior', 'CareHome': 33}\n1750 {'AgeLevel': 'Senior', 'CareHome': 10}\n1800 {'AgeLevel': 'Senior', 'CareHome': 50}\n1850 {'AgeLevel': 'Senior', 'CareHome': 52}\n1900 {'AgeLevel': 'Senior', 'CareHome': 59}\n1950 {'AgeLevel': 'Senior', 'CareHome': 45}\n"
     ]
    }
   ],
   "source": [
    "for i in range(0, N, N//40): # List 40 nodes\n",
    "    print(i,data.nodes[i])"
   ]
  },
  {
   "cell_type": "code",
   "execution_count": null,
   "metadata": {},
   "outputs": [],
   "source": []
  }
 ],
 "metadata": {
  "kernelspec": {
   "display_name": "Python 3",
   "language": "python",
   "name": "python3"
  },
  "language_info": {
   "codemirror_mode": {
    "name": "ipython",
    "version": 3
   },
   "file_extension": ".py",
   "mimetype": "text/x-python",
   "name": "python",
   "nbconvert_exporter": "python",
   "pygments_lexer": "ipython3",
   "version": "3.8.6-final"
  }
 },
 "nbformat": 4,
 "nbformat_minor": 4
}