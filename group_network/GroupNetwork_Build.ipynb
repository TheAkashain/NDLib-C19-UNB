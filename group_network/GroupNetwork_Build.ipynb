{
 "cells": [
  {
   "cell_type": "markdown",
   "metadata": {},
   "source": [
    "# Build Network with Group Labels"
   ]
  },
  {
   "cell_type": "markdown",
   "metadata": {},
   "source": [
    "### Construct Nodes with Age Labels"
   ]
  },
  {
   "cell_type": "code",
   "execution_count": 1,
   "metadata": {},
   "outputs": [],
   "source": [
    "from myGroupNetwork import myGroupNetwork\n",
    "\n",
    "N = 2000 # Total Population\n",
    "\n",
    "youngPercent = 0.15 # Percentage of each age group\n",
    "adultPercent = 0.65\n",
    "oldPercent = 1 - youngPercent - adultPercent # = 0.20\n",
    "\n",
    "nYoung = int(youngPercent * N)\n",
    "nMiddle = int(adultPercent * N)\n",
    "nSenior = N - nYoung - nMiddle\n",
    "data = myGroupNetwork(size={'Young': nYoung, 'Middle': nMiddle, 'Senior': nSenior})"
   ]
  },
  {
   "cell_type": "markdown",
   "metadata": {},
   "source": [
    "### Add Groups"
   ]
  },
  {
   "cell_type": "code",
   "execution_count": 2,
   "metadata": {},
   "outputs": [],
   "source": [
    "data.addGroup(groupType='CareHome', n=60, size={'Middle':20, 'Senior': 30}, contactPercentage=.7)"
   ]
  },
  {
   "cell_type": "code",
   "execution_count": 3,
   "metadata": {},
   "outputs": [],
   "source": [
    "data.addGroup(groupType='School', n=70, size={'Young':50, 'Middle': 20}, contactPercentage=.7)"
   ]
  },
  {
   "cell_type": "code",
   "execution_count": 4,
   "metadata": {},
   "outputs": [],
   "source": [
    "data.addGroup(groupType='Work', n=N//20, size={'Middle': 12}, exclude=['CareHome','School'], contactPercentage=.4)"
   ]
  },
  {
   "cell_type": "code",
   "execution_count": 5,
   "metadata": {},
   "outputs": [],
   "source": [
    "data.addGroup(groupType='Home', n=N//5, size= 3 , exclude=['CareHome'], contactPercentage=1)"
   ]
  },
  {
   "cell_type": "markdown",
   "metadata": {},
   "source": [
    "### Export Data"
   ]
  },
  {
   "cell_type": "code",
   "execution_count": 6,
   "metadata": {},
   "outputs": [],
   "source": [
    "data.save( filename='network_data.json' )"
   ]
  },
  {
   "cell_type": "markdown",
   "metadata": {},
   "source": [
    "### Inspect the result"
   ]
  },
  {
   "cell_type": "code",
   "execution_count": 7,
   "metadata": {},
   "outputs": [
    {
     "name": "stdout",
     "output_type": "stream",
     "text": [
      "0 {'AgeLevel': 'Young', 'School': 64, 'Home': 342}\n",
      "50 {'AgeLevel': 'Young', 'School': 54, 'Home': 374}\n",
      "100 {'AgeLevel': 'Young', 'School': 68, 'Home': 326}\n",
      "150 {'AgeLevel': 'Young', 'School': 68, 'Home': 204}\n",
      "200 {'AgeLevel': 'Young', 'School': 66}\n",
      "250 {'AgeLevel': 'Young', 'School': 66, 'Home': 392}\n",
      "300 {'AgeLevel': 'Middle', 'School': 11, 'Home': 231}\n",
      "350 {'AgeLevel': 'Middle', 'CareHome': 24}\n",
      "400 {'AgeLevel': 'Middle', 'CareHome': 55, 'School': 17}\n",
      "450 {'AgeLevel': 'Middle', 'CareHome': 28, 'School': 45}\n",
      "500 {'AgeLevel': 'Middle', 'CareHome': 5, 'School': 63}\n",
      "550 {'AgeLevel': 'Middle', 'School': 40, 'Home': 222}\n",
      "600 {'AgeLevel': 'Middle', 'CareHome': 8, 'School': 21}\n",
      "650 {'AgeLevel': 'Middle', 'Work': 81}\n",
      "700 {'AgeLevel': 'Middle', 'CareHome': 51}\n",
      "750 {'AgeLevel': 'Middle', 'Work': 76, 'Home': 391}\n",
      "800 {'AgeLevel': 'Middle', 'CareHome': 17}\n",
      "850 {'AgeLevel': 'Middle', 'Work': 98, 'Home': 355}\n",
      "900 {'AgeLevel': 'Middle', 'CareHome': 42, 'School': 12}\n",
      "950 {'AgeLevel': 'Middle', 'School': 54, 'Home': 337}\n",
      "1000 {'AgeLevel': 'Middle', 'School': 47, 'Home': 378}\n",
      "1050 {'AgeLevel': 'Middle', 'CareHome': 5, 'School': 60}\n",
      "1100 {'AgeLevel': 'Middle', 'CareHome': 36, 'School': 51}\n",
      "1150 {'AgeLevel': 'Middle', 'Work': 82, 'Home': 208}\n",
      "1200 {'AgeLevel': 'Middle', 'CareHome': 21}\n",
      "1250 {'AgeLevel': 'Middle', 'School': 29, 'Home': 377}\n",
      "1300 {'AgeLevel': 'Middle', 'CareHome': 38, 'School': 63}\n",
      "1350 {'AgeLevel': 'Middle', 'CareHome': 55, 'School': 46}\n",
      "1400 {'AgeLevel': 'Middle', 'School': 53}\n",
      "1450 {'AgeLevel': 'Middle', 'CareHome': 12}\n",
      "1500 {'AgeLevel': 'Middle', 'CareHome': 38, 'School': 3}\n",
      "1550 {'AgeLevel': 'Middle', 'CareHome': 4, 'School': 8}\n",
      "1600 {'AgeLevel': 'Senior', 'CareHome': 46}\n",
      "1650 {'AgeLevel': 'Senior', 'CareHome': 52}\n",
      "1700 {'AgeLevel': 'Senior', 'CareHome': 46}\n",
      "1750 {'AgeLevel': 'Senior', 'CareHome': 55}\n",
      "1800 {'AgeLevel': 'Senior', 'CareHome': 59}\n",
      "1850 {'AgeLevel': 'Senior', 'CareHome': 48}\n",
      "1900 {'AgeLevel': 'Senior', 'CareHome': 51}\n",
      "1950 {'AgeLevel': 'Senior', 'CareHome': 47}\n"
     ]
    }
   ],
   "source": [
    "for i in range(0, N, N//40): # List 40 nodes\n",
    "    print(i,data.nodes[i])"
   ]
  },
  {
   "cell_type": "code",
   "execution_count": null,
   "metadata": {},
   "outputs": [],
   "source": []
  }
 ],
 "metadata": {
  "kernelspec": {
   "display_name": "Python 3",
   "language": "python",
   "name": "python3"
  },
  "language_info": {
   "codemirror_mode": {
    "name": "ipython",
    "version": 3
   },
   "file_extension": ".py",
   "mimetype": "text/x-python",
   "name": "python",
   "nbconvert_exporter": "python",
   "pygments_lexer": "ipython3",
   "version": "3.8.3"
  }
 },
 "nbformat": 4,
 "nbformat_minor": 4
}
