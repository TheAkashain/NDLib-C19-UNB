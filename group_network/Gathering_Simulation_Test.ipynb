{
 "cells": [
  {
   "cell_type": "markdown",
   "metadata": {},
   "source": [
    "# Simulate Gathering Group Model"
   ]
  },
  {
   "cell_type": "markdown",
   "metadata": {},
   "source": [
    "- The purpose of this notebook is to validate the model, so the sample size of parameters is small.\n",
    "- To generate results with a larger amount of parameters, use gathering_simulation.py"
   ]
  },
  {
   "cell_type": "code",
   "execution_count": 1,
   "metadata": {},
   "outputs": [],
   "source": [
    "from myGroupNetwork import NetworkModel"
   ]
  },
  {
   "cell_type": "code",
   "execution_count": 2,
   "metadata": {},
   "outputs": [
    {
     "name": "stdout",
     "output_type": "stream",
     "text": [
      "Number of nodes: 20000\n"
     ]
    }
   ],
   "source": [
    "model = NetworkModel(filename='output/network_data.json')\n",
    "print('Number of nodes: {}'.format(len(model.graph)))"
   ]
  },
  {
   "cell_type": "code",
   "execution_count": 3,
   "metadata": {
    "scrolled": true
   },
   "outputs": [
    {
     "name": "stdout",
     "output_type": "stream",
     "text": [
      "Completed simuation with size=50 and num_events=60\n",
      "Completed simuation with size=50 and num_events=80\n",
      "Completed simuation with size=50 and num_events=100\n",
      "Completed simuation with size=70 and num_events=60\n",
      "Completed simuation with size=70 and num_events=80\n",
      "Completed simuation with size=70 and num_events=100\n",
      "Completed simuation with size=90 and num_events=60\n",
      "Completed simuation with size=90 and num_events=80\n",
      "Completed simuation with size=90 and num_events=100\n"
     ]
    }
   ],
   "source": [
    "filename = 'gathering_simulation_test.csv'\n",
    "days = 10\n",
    "sizes = [50, 70, 90]\n",
    "num_events = [60, 80, 100]\n",
    "model.gathering_simulation(days, sizes=sizes, num_events=num_events, filename=filename)"
   ]
  },
  {
   "cell_type": "code",
   "execution_count": 8,
   "metadata": {},
   "outputs": [
    {
     "data": {
      "image/png": "[encoded data removed]",
      "text/plain": [
       "<Figure size 720x432 with 2 Axes>"
      ]
     },
     "metadata": {
      "needs_background": "light"
     },
     "output_type": "display_data"
    }
   ],
   "source": [
    "model.gathering_plot(input='gathering_simulation_test.csv', output='sizes_vs_nums_test.jpg')"
   ]
  },
  {
   "cell_type": "code",
   "execution_count": null,
   "metadata": {},
   "outputs": [],
   "source": []
  }
 ],
 "metadata": {
  "kernelspec": {
   "display_name": "Python 3",
   "language": "python",
   "name": "python3"
  },
  "language_info": {
   "codemirror_mode": {
    "name": "ipython",
    "version": 3
   },
   "file_extension": ".py",
   "mimetype": "text/x-python",
   "name": "python",
   "nbconvert_exporter": "python",
   "pygments_lexer": "ipython3",
   "version": "3.8.8"
  }
 },
 "nbformat": 4,
 "nbformat_minor": 4
}
